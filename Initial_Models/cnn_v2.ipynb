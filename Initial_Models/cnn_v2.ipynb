{
 "cells": [
  {
   "cell_type": "code",
   "execution_count": null,
   "metadata": {},
   "outputs": [
    {
     "name": "stdout",
     "output_type": "stream",
     "text": [
      "2.17.0\n"
     ]
    }
   ],
   "source": [
    "import pandas as pd\n",
    "import numpy as np\n",
    "import os\n",
    "import tensorflow as tf\n",
    "import matplotlib.pyplot as plt\n",
    "import seaborn as sns\n",
    "import gdown\n",
    "import zipfile\n",
    "from sklearn.model_selection import train_test_split\n",
    "from sklearn.metrics import classification_report\n",
    "import cv2\n",
    "from tensorflow.keras.utils import Sequence\n",
    "import albumentations as A\n",
    "from albumentations.core.transforms_interface import DualTransform\n",
    "from tensorflow.keras.optimizers.schedules import ExponentialDecay\n",
    "from tensorflow.keras.callbacks import ReduceLROnPlateau\n",
    "from tensorflow.keras import layers, models, callbacks\n",
    "from sklearn.utils.class_weight import compute_class_weight\n",
    "\n",
    "\n",
    "\n",
    "print(tf.__version__)"
   ]
  },
  {
   "cell_type": "code",
   "execution_count": 2,
   "metadata": {},
   "outputs": [
    {
     "name": "stdout",
     "output_type": "stream",
     "text": [
      "ocular-disease-recognition.zip already exists. Skipping download.\n"
     ]
    }
   ],
   "source": [
    "file_id = \"1oQ6Vy_HqZlVHnkFspgxMn0IcE__D8Kmh\"\n",
    "zip_filename = \"ocular-disease-recognition.zip\"\n",
    "extract_path = \"./ocular-disease-recognition\"\n",
    "\n",
    "# Check if the file already exists\n",
    "if not os.path.exists(zip_filename):\n",
    "    print(f\"Downloading {zip_filename}...\")\n",
    "    gdown.download(f\"https://drive.google.com/uc?id={file_id}\", zip_filename, quiet=False)\n",
    "else:\n",
    "    print(f\"{zip_filename} already exists. Skipping download.\")"
   ]
  },
  {
   "cell_type": "code",
   "execution_count": 3,
   "metadata": {},
   "outputs": [
    {
     "name": "stdout",
     "output_type": "stream",
     "text": [
      "Extraction skipped: ./ocular-disease-recognition already exists.\n"
     ]
    }
   ],
   "source": [
    "# Check if already extracted\n",
    "if not os.path.exists(extract_path):\n",
    "    os.makedirs(extract_path, exist_ok=True)\n",
    "    print(f\"Extracting {zip_filename}...\")\n",
    "\n",
    "    with zipfile.ZipFile(zip_filename, \"r\") as zip_ref:\n",
    "        zip_ref.extractall(extract_path)\n",
    "\n",
    "    print(f\"Extraction complete! Files extracted to: {extract_path}\")\n",
    "else:\n",
    "    print(f\"Extraction skipped: {extract_path} already exists.\")"
   ]
  },
  {
   "cell_type": "code",
   "execution_count": null,
   "metadata": {},
   "outputs": [],
   "source": [
    "# Load the dataset (Update the path if necessary)\n",
    "dataset_path = \"processed_ocular_disease.csv\"\n",
    "df = pd.read_csv(dataset_path)\n",
    "\n",
    "# **Split into Train, Validation, and Test Sets**\n",
    "train_df, temp_df = train_test_split(df, test_size=0.3, random_state=42)  # 70% Train, 30% Temp\n",
    "val_df, test_df = train_test_split(temp_df, test_size=0.5, random_state=42)  # 15% Val, 15% Test"
   ]
  },
  {
   "cell_type": "code",
   "execution_count": null,
   "metadata": {},
   "outputs": [],
   "source": [
    "# Compute class weights\n",
    "class_labels = np.unique(df['labels'])\n",
    "class_weights = compute_class_weight(class_weight=\"balanced\", classes=class_labels, y=df['labels'])\n",
    "class_weight_dict = {i: class_weights[i] for i in range(len(class_labels))}\n",
    "\n",
    "print(\"Computed Class Weights:\", class_weight_dict)\n"
   ]
  },
  {
   "cell_type": "code",
   "execution_count": null,
   "metadata": {},
   "outputs": [
    {
     "name": "stdout",
     "output_type": "stream",
     "text": [
      "labels\n",
      "4    2030\n",
      "5    2030\n",
      "2    2030\n",
      "3    2030\n",
      "6    2030\n",
      "1    2030\n",
      "7    2030\n",
      "0    2030\n",
      "Name: count, dtype: int64\n"
     ]
    }
   ],
   "source": [
    "from sklearn.utils import resample\n",
    "\n",
    "def balance_classes(df):\n",
    "    \"\"\"Resample dataset to balance classes.\"\"\"\n",
    "    max_size = df['labels'].value_counts().max()  # Find the max number of samples in any class\n",
    "    balanced_df = pd.concat([\n",
    "        resample(df[df['labels'] == cls], replace=True, n_samples=max_size, random_state=42)\n",
    "        for cls in df['labels'].unique()\n",
    "    ])\n",
    "    return balanced_df.sample(frac=1).reset_index(drop=True)  # Shuffle after resampling\n",
    "\n",
    "# Apply to training data only\n",
    "train_df_balanced = balance_classes(train_df)\n",
    "\n",
    "# Check if balancing worked\n",
    "print(train_df_balanced['labels'].value_counts())  # Should now be balanced\n"
   ]
  },
  {
   "cell_type": "code",
   "execution_count": 10,
   "metadata": {},
   "outputs": [],
   "source": [
    "class DualImageAugmentation(DualTransform):\n",
    "    def __init__(self, transforms, always_apply=False, p=0.5):\n",
    "        super(DualImageAugmentation, self).__init__(always_apply, p)\n",
    "        self.transforms = A.Compose(transforms)\n",
    "\n",
    "    def apply(self, img, **params):\n",
    "        return self.transforms(image=img)[\"image\"]\n",
    "\n",
    "    def apply_to_image1(self, img, **params):\n",
    "        return self.transforms(image=img)[\"image\"]\n",
    "\n",
    "class OcularDatasetGenerator(Sequence):\n",
    "    def __init__(self, df, batch_size=32, img_size=(128, 128), shuffle=True, augment=True):\n",
    "        self.df = df\n",
    "        self.batch_size = batch_size\n",
    "        self.img_size = img_size\n",
    "        self.shuffle = shuffle\n",
    "        self.augment = augment  \n",
    "        self.indices = np.arange(len(df))\n",
    "        \n",
    "        # Define augmentation pipeline if augmentation is enabled\n",
    "        if augment:\n",
    "            self.augmentation_pipeline = self.get_augmentation_pipeline()\n",
    "        else:\n",
    "            self.augmentation_pipeline = None\n",
    "\n",
    "        self.on_epoch_end()\n",
    "\n",
    "    def __len__(self):\n",
    "        return int(np.floor(len(self.df) / self.batch_size))  \n",
    "\n",
    "    def __getitem__(self, index):\n",
    "        batch_indices = self.indices[index * self.batch_size:(index + 1) * self.batch_size]\n",
    "        batch = self.df.iloc[batch_indices]\n",
    "        X, y = self.__data_generation(batch)\n",
    "        return np.array(X), np.array(y)  \n",
    "\n",
    "    def __data_generation(self, batch):\n",
    "        X_batch = []\n",
    "        y_batch = []\n",
    "        \n",
    "        for _, row in batch.iterrows():\n",
    "            left_image_path = os.path.join('ocular-disease-recognition/preprocessed_images', row['Left-Fundus'])\n",
    "            right_image_path = os.path.join('ocular-disease-recognition/preprocessed_images', row['Right-Fundus'])\n",
    "            \n",
    "            left_image = self.load_image(left_image_path)\n",
    "            right_image = self.load_image(right_image_path)\n",
    "\n",
    "            if left_image is None or right_image is None:\n",
    "                continue\n",
    "\n",
    "            # Apply identical augmentations to both images\n",
    "            if self.augment and self.augmentation_pipeline:\n",
    "                augmented = self.augmentation_pipeline(image=left_image, image1=right_image)\n",
    "                left_image = augmented[\"image\"]\n",
    "                right_image = augmented[\"image1\"]\n",
    "\n",
    "            # Ensure channel dimension is included (for grayscale images)\n",
    "            left_image = np.expand_dims(left_image, axis=-1)  # Shape: (128, 128, 1)\n",
    "            right_image = np.expand_dims(right_image, axis=-1)  # Shape: (128, 128, 1)\n",
    "\n",
    "            combined_image = np.concatenate((left_image, right_image), axis=-1)  # Shape: (128, 128, 2)\n",
    "            X_batch.append(combined_image)\n",
    "\n",
    "            y_batch.append(int(row['labels']))  \n",
    "\n",
    "        return np.array(X_batch, dtype=np.float32), np.array(y_batch, dtype=np.int32)\n",
    "\n",
    "    def load_image(self, image_path):\n",
    "        image = cv2.imread(image_path, cv2.IMREAD_GRAYSCALE)\n",
    "        if image is None:\n",
    "            return None\n",
    "        image = cv2.resize(image, self.img_size)\n",
    "        image = image / 255.0  \n",
    "        return image\n",
    "\n",
    "    def get_augmentation_pipeline(self):\n",
    "        return DualImageAugmentation([\n",
    "            A.RandomBrightnessContrast(p=0.4),\n",
    "            A.GaussianBlur(blur_limit=(3, 7), p=0.3), \n",
    "            A.HorizontalFlip(p=0.5),\n",
    "            A.Affine(rotate=(-20, 20), scale=(0.9, 1.1), translate_percent=(0.05, 0.05), p=0.6), \n",
    "            A.ElasticTransform(p=0.3),\n",
    "            A.GridDistortion(p=0.3),\n",
    "            A.RandomRotate90(p=0.3),\n",
    "            A.CLAHE(p=0.2)  # Contrast enhancement\n",
    "        ])\n",
    "\n",
    "    def on_epoch_end(self):\n",
    "        if self.shuffle:\n",
    "            np.random.shuffle(self.indices)"
   ]
  },
  {
   "cell_type": "code",
   "execution_count": null,
   "metadata": {},
   "outputs": [
    {
     "name": "stdout",
     "output_type": "stream",
     "text": [
      "Number of Classes: 8\n",
      "Computed Class Weights: {0: 3.0037593984962405, 1: 2.726962457337884, 2: 0.4968905472636816, 3: 2.813380281690141, 4: 6.2421875, 5: 3.4439655172413794, 6: 0.2781065088757396, 7: 1.1285310734463276}\n",
      "Epoch 1/100\n"
     ]
    },
    {
     "name": "stderr",
     "output_type": "stream",
     "text": [
      "c:\\Users\\savag\\anaconda3\\Lib\\site-packages\\keras\\src\\layers\\convolutional\\base_conv.py:107: UserWarning: Do not pass an `input_shape`/`input_dim` argument to a layer. When using Sequential models, prefer using an `Input(shape)` object as the first layer in the model instead.\n",
      "  super().__init__(activity_regularizer=activity_regularizer, **kwargs)\n",
      "c:\\Users\\savag\\anaconda3\\Lib\\site-packages\\sklearn\\utils\\validation.py:605: FutureWarning: is_sparse is deprecated and will be removed in a future version. Check `isinstance(dtype, pd.SparseDtype)` instead.\n",
      "  if is_sparse(pd_dtype):\n",
      "c:\\Users\\savag\\anaconda3\\Lib\\site-packages\\sklearn\\utils\\validation.py:614: FutureWarning: is_sparse is deprecated and will be removed in a future version. Check `isinstance(dtype, pd.SparseDtype)` instead.\n",
      "  if is_sparse(pd_dtype) or not is_extension_array_dtype(pd_dtype):\n",
      "c:\\Users\\savag\\anaconda3\\Lib\\site-packages\\keras\\src\\trainers\\data_adapters\\py_dataset_adapter.py:121: UserWarning: Your `PyDataset` class should call `super().__init__(**kwargs)` in its constructor. `**kwargs` can include `workers`, `use_multiprocessing`, `max_queue_size`. Do not pass these arguments to `fit()`, as they will be ignored.\n",
      "  self._warn_if_super_not_called()\n"
     ]
    },
    {
     "name": "stdout",
     "output_type": "stream",
     "text": [
      "\u001b[1m1015/1015\u001b[0m \u001b[32m━━━━━━━━━━━━━━━━━━━━\u001b[0m\u001b[37m\u001b[0m \u001b[1m72s\u001b[0m 69ms/step - accuracy: 0.2165 - loss: 1.9612 - val_accuracy: 0.2221 - val_loss: 1.8940\n",
      "Epoch 2/100\n",
      "\u001b[1m1015/1015\u001b[0m \u001b[32m━━━━━━━━━━━━━━━━━━━━\u001b[0m\u001b[37m\u001b[0m \u001b[1m71s\u001b[0m 70ms/step - accuracy: 0.5041 - loss: 1.3147 - val_accuracy: 0.2642 - val_loss: 1.7960\n",
      "Epoch 3/100\n",
      "\u001b[1m1015/1015\u001b[0m \u001b[32m━━━━━━━━━━━━━━━━━━━━\u001b[0m\u001b[37m\u001b[0m \u001b[1m71s\u001b[0m 70ms/step - accuracy: 0.6314 - loss: 0.9871 - val_accuracy: 0.3827 - val_loss: 1.6654\n",
      "Epoch 4/100\n",
      "\u001b[1m1015/1015\u001b[0m \u001b[32m━━━━━━━━━━━━━━━━━━━━\u001b[0m\u001b[37m\u001b[0m \u001b[1m72s\u001b[0m 70ms/step - accuracy: 0.7150 - loss: 0.7539 - val_accuracy: 0.4107 - val_loss: 1.6881\n",
      "Epoch 5/100\n",
      "\u001b[1m1015/1015\u001b[0m \u001b[32m━━━━━━━━━━━━━━━━━━━━\u001b[0m\u001b[37m\u001b[0m \u001b[1m72s\u001b[0m 70ms/step - accuracy: 0.7634 - loss: 0.6130 - val_accuracy: 0.4494 - val_loss: 1.6600\n",
      "Epoch 6/100\n",
      "\u001b[1m1015/1015\u001b[0m \u001b[32m━━━━━━━━━━━━━━━━━━━━\u001b[0m\u001b[37m\u001b[0m \u001b[1m70s\u001b[0m 68ms/step - accuracy: 0.7976 - loss: 0.5162 - val_accuracy: 0.4801 - val_loss: 1.6214\n",
      "Epoch 7/100\n",
      "\u001b[1m1015/1015\u001b[0m \u001b[32m━━━━━━━━━━━━━━━━━━━━\u001b[0m\u001b[37m\u001b[0m \u001b[1m70s\u001b[0m 69ms/step - accuracy: 0.8201 - loss: 0.4687 - val_accuracy: 0.4841 - val_loss: 1.8182\n",
      "Epoch 8/100\n",
      "\u001b[1m1015/1015\u001b[0m \u001b[32m━━━━━━━━━━━━━━━━━━━━\u001b[0m\u001b[37m\u001b[0m \u001b[1m70s\u001b[0m 69ms/step - accuracy: 0.8462 - loss: 0.4136 - val_accuracy: 0.5188 - val_loss: 1.8473\n",
      "Epoch 9/100\n",
      "\u001b[1m1015/1015\u001b[0m \u001b[32m━━━━━━━━━━━━━━━━━━━━\u001b[0m\u001b[37m\u001b[0m \u001b[1m70s\u001b[0m 69ms/step - accuracy: 0.8587 - loss: 0.3773 - val_accuracy: 0.5142 - val_loss: 1.8052\n",
      "Epoch 10/100\n",
      "\u001b[1m1015/1015\u001b[0m \u001b[32m━━━━━━━━━━━━━━━━━━━━\u001b[0m\u001b[37m\u001b[0m \u001b[1m70s\u001b[0m 69ms/step - accuracy: 0.8779 - loss: 0.3336 - val_accuracy: 0.5063 - val_loss: 1.8849\n",
      "Epoch 11/100\n",
      "\u001b[1m1015/1015\u001b[0m \u001b[32m━━━━━━━━━━━━━━━━━━━━\u001b[0m\u001b[37m\u001b[0m \u001b[1m70s\u001b[0m 69ms/step - accuracy: 0.8841 - loss: 0.3170 - val_accuracy: 0.5045 - val_loss: 2.0582\n"
     ]
    }
   ],
   "source": [
    "# **Create Data Generators**\n",
    "# batch_size = 32\n",
    "batch_size = 16\n",
    "train_generator = OcularDatasetGenerator(train_df_balanced, batch_size=batch_size, augment=True)\n",
    "val_generator = OcularDatasetGenerator(val_df, batch_size=batch_size)  # No augmentation for validation\n",
    "test_generator = OcularDatasetGenerator(test_df, batch_size=batch_size, shuffle=False)  # No augmentation & no shuffle for testing\n",
    "\n",
    "# **Get Number of Classes**\n",
    "num_classes = len(np.unique(df['labels']))\n",
    "print(f\"Number of Classes: {num_classes}\")\n",
    "\n",
    "# **Define CNN Model**\n",
    "model = models.Sequential([\n",
    "    layers.Conv2D(32, (3, 3), activation='relu', input_shape=(128, 128, 2)),\n",
    "    layers.MaxPooling2D((2, 2)),\n",
    "    layers.Conv2D(64, (3, 3), activation='relu'),\n",
    "    layers.MaxPooling2D((2, 2)),\n",
    "    layers.Conv2D(128, (3, 3), activation='relu'),\n",
    "    layers.MaxPooling2D((2, 2)),\n",
    "    layers.Conv2D(256, (3, 3), activation='relu'),\n",
    "    layers.MaxPooling2D((2, 2)),\n",
    "    \n",
    "    layers.Flatten(),\n",
    "    layers.Dense(256, activation='relu'),\n",
    "    layers.Dropout(0.5),  # Dropout for regularization\n",
    "    layers.Dense(128, activation='relu'),\n",
    "    layers.Dense(num_classes, activation='softmax')\n",
    "])\n",
    "\n",
    "\n",
    "# Exponential Decay Learning Rate\n",
    "lr_schedule = ExponentialDecay(initial_learning_rate=0.001, decay_steps=1000, decay_rate=0.96, staircase=True)\n",
    "\n",
    "# ReduceLROnPlateau (Decrease learning rate when validation loss plateaus)\n",
    "reduce_lr = ReduceLROnPlateau(monitor='val_loss', factor=0.5, patience=3, verbose=1)\n",
    "\n",
    "# Compile with new learning rate\n",
    "model.compile(optimizer=tf.keras.optimizers.Adam(learning_rate=lr_schedule),\n",
    "              loss='sparse_categorical_crossentropy',\n",
    "              metrics=['accuracy'])\n",
    "\n",
    "\n",
    "# **Define Early Stopping Callback**\n",
    "early_stopping = callbacks.EarlyStopping(\n",
    "    monitor='val_loss',    # Stop if validation loss stops improving\n",
    "    patience=5,            # Wait for 5 epochs before stopping\n",
    "    restore_best_weights=True  # Restore best model weights\n",
    ")\n",
    "\n",
    "# **Train the Model with Early Stopping**\n",
    "history = model.fit(\n",
    "    train_generator,\n",
    "    epochs=100,\n",
    "    validation_data=val_generator,\n",
    "    callbacks=[early_stopping]\n",
    ")"
   ]
  },
  {
   "cell_type": "code",
   "execution_count": 11,
   "metadata": {},
   "outputs": [
    {
     "name": "stdout",
     "output_type": "stream",
     "text": [
      "\u001b[1m59/59\u001b[0m \u001b[32m━━━━━━━━━━━━━━━━━━━━\u001b[0m\u001b[37m\u001b[0m \u001b[1m9s\u001b[0m 152ms/step - accuracy: 0.4790 - loss: 1.4926\n",
      "Test Accuracy: 0.4764\n"
     ]
    }
   ],
   "source": [
    "# **Evaluate the Model on Test Set**\n",
    "test_loss, test_acc = model.evaluate(test_generator)\n",
    "print(f\"Test Accuracy: {test_acc:.4f}\")"
   ]
  }
 ],
 "metadata": {
  "kernelspec": {
   "display_name": "base",
   "language": "python",
   "name": "python3"
  },
  "language_info": {
   "codemirror_mode": {
    "name": "ipython",
    "version": 3
   },
   "file_extension": ".py",
   "mimetype": "text/x-python",
   "name": "python",
   "nbconvert_exporter": "python",
   "pygments_lexer": "ipython3",
   "version": "3.11.5"
  }
 },
 "nbformat": 4,
 "nbformat_minor": 2
}
