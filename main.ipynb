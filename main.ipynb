{
 "cells": [
  {
   "cell_type": "code",
   "execution_count": null,
   "metadata": {},
   "outputs": [],
   "source": [
    "import pandas as pd\n",
    "import numpy as np\n",
    "import os\n",
    "import tensorflow as tf\n",
    "import matplotlib.pyplot as plt\n",
    "import seaborn as sns\n",
    "import gdown\n",
    "import zipfile\n",
    "\n",
    "\n",
    "print(tf.__version__)"
   ]
  },
  {
   "cell_type": "code",
   "execution_count": null,
   "metadata": {},
   "outputs": [],
   "source": [
    "file_id = \"1oQ6Vy_HqZlVHnkFspgxMn0IcE__D8Kmh\"\n",
    "zip_filename = \"ocular-disease-recognition.zip\"\n",
    "extract_path = \"./ocular-disease-recognition\"\n",
    "\n",
    "# Check if the file already exists\n",
    "if not os.path.exists(zip_filename):\n",
    "    print(f\"Downloading {zip_filename}...\")\n",
    "    gdown.download(f\"https://drive.google.com/uc?id={file_id}\", zip_filename, quiet=False)\n",
    "else:\n",
    "    print(f\"{zip_filename} already exists. Skipping download.\")"
   ]
  },
  {
   "cell_type": "code",
   "execution_count": null,
   "metadata": {},
   "outputs": [],
   "source": [
    "# Check if already extracted\n",
    "if not os.path.exists(extract_path):\n",
    "    os.makedirs(extract_path, exist_ok=True)\n",
    "    print(f\"Extracting {zip_filename}...\")\n",
    "\n",
    "    with zipfile.ZipFile(zip_filename, \"r\") as zip_ref:\n",
    "        zip_ref.extractall(extract_path)\n",
    "\n",
    "    print(f\"Extraction complete! Files extracted to: {extract_path}\")\n",
    "else:\n",
    "    print(f\"Extraction skipped: {extract_path} already exists.\")"
   ]
  }
 ],
 "metadata": {
  "kernelspec": {
   "display_name": "base",
   "language": "python",
   "name": "python3"
  },
  "language_info": {
   "codemirror_mode": {
    "name": "ipython",
    "version": 3
   },
   "file_extension": ".py",
   "mimetype": "text/x-python",
   "name": "python",
   "nbconvert_exporter": "python",
   "pygments_lexer": "ipython3",
   "version": "3.11.5"
  }
 },
 "nbformat": 4,
 "nbformat_minor": 2
}
