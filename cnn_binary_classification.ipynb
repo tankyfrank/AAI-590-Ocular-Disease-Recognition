{
 "cells": [
  {
   "cell_type": "code",
   "execution_count": 1,
   "metadata": {},
   "outputs": [
    {
     "name": "stderr",
     "output_type": "stream",
     "text": [
      "2025-03-19 21:56:53.122111: E external/local_xla/xla/stream_executor/cuda/cuda_fft.cc:467] Unable to register cuFFT factory: Attempting to register factory for plugin cuFFT when one has already been registered\n",
      "WARNING: All log messages before absl::InitializeLog() is called are written to STDERR\n",
      "E0000 00:00:1742446613.133820     587 cuda_dnn.cc:8579] Unable to register cuDNN factory: Attempting to register factory for plugin cuDNN when one has already been registered\n",
      "E0000 00:00:1742446613.137038     587 cuda_blas.cc:1407] Unable to register cuBLAS factory: Attempting to register factory for plugin cuBLAS when one has already been registered\n",
      "W0000 00:00:1742446613.145997     587 computation_placer.cc:177] computation placer already registered. Please check linkage and avoid linking the same target more than once.\n",
      "W0000 00:00:1742446613.146018     587 computation_placer.cc:177] computation placer already registered. Please check linkage and avoid linking the same target more than once.\n",
      "W0000 00:00:1742446613.146019     587 computation_placer.cc:177] computation placer already registered. Please check linkage and avoid linking the same target more than once.\n",
      "W0000 00:00:1742446613.146021     587 computation_placer.cc:177] computation placer already registered. Please check linkage and avoid linking the same target more than once.\n",
      "2025-03-19 21:56:53.149003: I tensorflow/core/platform/cpu_feature_guard.cc:210] This TensorFlow binary is optimized to use available CPU instructions in performance-critical operations.\n",
      "To enable the following instructions: AVX2 FMA, in other operations, rebuild TensorFlow with the appropriate compiler flags.\n"
     ]
    }
   ],
   "source": [
    "import numpy as np\n",
    "import pandas as pd \n",
    "import matplotlib.pyplot as plt\n",
    "import seaborn as sns\n",
    "import string\n",
    "# import re\n",
    "# from nltk.corpus import stopwords\n",
    "# from wordcloud import WordCloud, STOPWORDS\n",
    "# from nltk.stem import SnowballStemmer\n",
    "\n",
    "import os\n",
    "import itertools\n",
    "import cv2\n",
    "from sklearn.cluster import KMeans\n",
    "from sklearn.decomposition import PCA\n",
    "from sklearn.model_selection import train_test_split\n",
    "from sklearn.metrics import confusion_matrix , classification_report\n",
    "\n",
    "import tensorflow as tf\n",
    "from tensorflow import keras\n",
    "from tensorflow.keras.models import Sequential\n",
    "from tensorflow.keras.preprocessing.image import ImageDataGenerator\n",
    "from tensorflow.keras.layers import Conv2D, MaxPooling2D, Flatten, Dense,  BatchNormalization, Activation, Dropout  \n",
    "from tensorflow.keras.callbacks import EarlyStopping, ModelCheckpoint\n",
    "from tensorflow.keras.optimizers import Adam , Adamax\n",
    "from tensorflow.keras import regularizers\n",
    "\n",
    "# import warnings\n",
    "# warnings.filterwarnings(\"ignore\")\n",
    "\n",
    "\n",
    "\n"
   ]
  },
  {
   "cell_type": "code",
   "execution_count": 2,
   "metadata": {},
   "outputs": [],
   "source": [
    "# Load the dataset (Update the path if necessary)\n",
    "dataset_path = \"ocular-disease-recognition/full_df.csv\"\n",
    "\n",
    "# Read the CSV file into a DataFrame\n",
    "df = pd.read_csv(dataset_path)\n",
    "\n",
    "df = df[\n",
    "    df.apply(lambda row: \n",
    "        os.path.exists(os.path.join('ocular-disease-recognition/preprocessed_images', row['Left-Fundus'])) and\n",
    "        os.path.exists(os.path.join('ocular-disease-recognition/preprocessed_images', row['Right-Fundus'])), \n",
    "        axis=1\n",
    "    )\n",
    "].reset_index(drop=True)"
   ]
  },
  {
   "cell_type": "code",
   "execution_count": 3,
   "metadata": {},
   "outputs": [
    {
     "data": {
      "text/plain": [
       "0       6\n",
       "1       6\n",
       "2       2\n",
       "3       2\n",
       "4       2\n",
       "       ..\n",
       "6063    2\n",
       "6064    2\n",
       "6065    2\n",
       "6066    2\n",
       "6067    4\n",
       "Name: labels_encoded, Length: 6068, dtype: int64"
      ]
     },
     "execution_count": 3,
     "metadata": {},
     "output_type": "execute_result"
    }
   ],
   "source": [
    "from sklearn.preprocessing import LabelEncoder\n",
    "\n",
    "# Initialize the encoder\n",
    "label_encoder = LabelEncoder()\n",
    "df['labels_encoded'] = label_encoder.fit_transform(df['labels'])\n",
    "df['labels_encoded'] "
   ]
  },
  {
   "cell_type": "code",
   "execution_count": 4,
   "metadata": {},
   "outputs": [
    {
     "data": {
      "text/plain": [
       "8"
      ]
     },
     "execution_count": 4,
     "metadata": {},
     "output_type": "execute_result"
    }
   ],
   "source": [
    "len(df['labels_encoded'].unique())"
   ]
  },
  {
   "cell_type": "code",
   "execution_count": 5,
   "metadata": {},
   "outputs": [
    {
     "data": {
      "text/plain": [
       "0       ['N']\n",
       "1       ['N']\n",
       "2       ['D']\n",
       "3       ['D']\n",
       "4       ['D']\n",
       "        ...  \n",
       "6063    ['D']\n",
       "6064    ['D']\n",
       "6065    ['D']\n",
       "6066    ['D']\n",
       "6067    ['H']\n",
       "Name: decoded_labels, Length: 6068, dtype: object"
      ]
     },
     "execution_count": 5,
     "metadata": {},
     "output_type": "execute_result"
    }
   ],
   "source": [
    "df['decoded_labels'] = label_encoder.inverse_transform(df['labels_encoded'])\n",
    "df['decoded_labels'] "
   ]
  },
  {
   "cell_type": "code",
   "execution_count": 6,
   "metadata": {},
   "outputs": [],
   "source": [
    "train_dir = \"ocular-disease-recognition/preprocessed_images\"\n",
    "\n",
    "file_paths = []\n",
    "features = []\n",
    "\n",
    "for root, dirs, files in os.walk(train_dir):\n",
    "    for file in files:\n",
    "            file_path = os.path.join(root, file)\n",
    "            file_paths.append(file_path)\n",
    "            \n",
    "            image = cv2.imread(file_path)\n",
    "            image = cv2.resize(image, (100, 100)) \n",
    "            avg_color = image.mean(axis=0).mean(axis=0)  \n",
    "            features.append(avg_color)\n",
    "\n",
    "\n",
    "features = np.array(features)\n",
    "\n",
    "pca = PCA(n_components=2)\n",
    "reduced_features = pca.fit_transform(features)\n",
    "\n",
    "kmeans = KMeans(n_clusters=2, random_state=42)\n",
    "clusters = kmeans.fit_predict(reduced_features)\n",
    "\n",
    "eyes = pd.DataFrame({\n",
    "    'file_path': file_paths,\n",
    "    'cluster': clusters\n",
    "})\n"
   ]
  },
  {
   "cell_type": "code",
   "execution_count": 7,
   "metadata": {},
   "outputs": [
    {
     "name": "stdout",
     "output_type": "stream",
     "text": [
      "Training set shape: (3835, 2)\n",
      "Validation set shape: (1279, 2)\n",
      "Testing set shape: (1278, 2)\n"
     ]
    }
   ],
   "source": [
    "# Map clusters to class labels\n",
    "eyes['cluster'] = eyes['cluster'].replace({0: 'X', 1: 'N'})\n",
    "\n",
    "# Split data\n",
    "train_data, test = train_test_split(eyes, test_size=0.4, random_state=42, stratify=eyes['cluster'])\n",
    "test, valid_data = train_test_split(test, test_size=0.5, random_state=42, stratify=test['cluster'])\n",
    "\n",
    "print(f\"Training set shape: {train_data.shape}\")\n",
    "print(f\"Validation set shape: {valid_data.shape}\")\n",
    "print(f\"Testing set shape: {test.shape}\")\n",
    "\n",
    "# Convert class labels to numerical values\n",
    "train_data['label'] = train_data['cluster'].apply(lambda x: 0 if x == 'X' else 1)\n",
    "valid_data['label'] = valid_data['cluster'].apply(lambda x: 0 if x == 'X' else 1)\n",
    "test['label'] = test['cluster'].apply(lambda x: 0 if x == 'X' else 1)\n",
    "\n",
    "# Function to parse and preprocess images\n",
    "def parse_image(filename, label):\n",
    "    image = tf.io.read_file(filename)\n",
    "    image = tf.image.decode_jpeg(image, channels=3)\n",
    "    image = tf.image.resize(image, (224, 224))\n",
    "    image = image / 255.0  # Normalize\n",
    "    return image, label\n",
    "\n",
    "# Function to create TF dataset with batching and prefetching\n",
    "def prepare_dataset(df, batch_size=8, shuffle=True):\n",
    "    file_paths = df['file_path'].values\n",
    "    labels = df['label'].values  # Convert labels to numerical\n",
    "\n",
    "    dataset = tf.data.Dataset.from_tensor_slices((file_paths, labels))\n",
    "    dataset = dataset.map(parse_image, num_parallel_calls=tf.data.AUTOTUNE)\n",
    "\n",
    "    if shuffle:\n",
    "        dataset = dataset.shuffle(buffer_size=len(df))\n",
    "    \n",
    "    dataset = dataset.batch(batch_size)\n",
    "    dataset = dataset.prefetch(buffer_size=tf.data.AUTOTUNE)\n",
    "    return dataset"
   ]
  },
  {
   "cell_type": "code",
   "execution_count": 8,
   "metadata": {},
   "outputs": [
    {
     "name": "stderr",
     "output_type": "stream",
     "text": [
      "I0000 00:00:1742446620.672345     587 gpu_device.cc:2019] Created device /job:localhost/replica:0/task:0/device:GPU:0 with 9571 MB memory:  -> device: 0, name: NVIDIA GeForce RTX 3080, pci bus id: 0000:06:00.0, compute capability: 8.6\n",
      "/home/franklin/miniconda3/lib/python3.12/site-packages/keras/src/layers/convolutional/base_conv.py:107: UserWarning: Do not pass an `input_shape`/`input_dim` argument to a layer. When using Sequential models, prefer using an `Input(shape)` object as the first layer in the model instead.\n",
      "  super().__init__(activity_regularizer=activity_regularizer, **kwargs)\n"
     ]
    },
    {
     "name": "stdout",
     "output_type": "stream",
     "text": [
      "Epoch 1/20\n"
     ]
    },
    {
     "name": "stderr",
     "output_type": "stream",
     "text": [
      "WARNING: All log messages before absl::InitializeLog() is called are written to STDERR\n",
      "I0000 00:00:1742446645.438171     708 service.cc:152] XLA service 0x7f50100061e0 initialized for platform CUDA (this does not guarantee that XLA will be used). Devices:\n",
      "I0000 00:00:1742446645.438259     708 service.cc:160]   StreamExecutor device (0): NVIDIA GeForce RTX 3080, Compute Capability 8.6\n",
      "2025-03-19 21:57:25.512680: I tensorflow/compiler/mlir/tensorflow/utils/dump_mlir_util.cc:269] disabling MLIR crash reproducer, set env var `MLIR_CRASH_REPRODUCER_DIRECTORY` to enable.\n",
      "I0000 00:00:1742446645.868797     708 cuda_dnn.cc:529] Loaded cuDNN version 90300\n",
      "I0000 00:00:1742446656.803478     708 device_compiler.h:188] Compiled cluster using XLA!  This line is logged at most once for the lifetime of the process.\n"
     ]
    },
    {
     "name": "stdout",
     "output_type": "stream",
     "text": [
      "\u001b[1m1918/1918\u001b[0m \u001b[32m━━━━━━━━━━━━━━━━━━━━\u001b[0m\u001b[37m\u001b[0m \u001b[1m274s\u001b[0m 135ms/step - accuracy: 0.7793 - loss: 1.0187 - val_accuracy: 0.9414 - val_loss: 0.1941\n",
      "Epoch 2/20\n",
      "\u001b[1m1918/1918\u001b[0m \u001b[32m━━━━━━━━━━━━━━━━━━━━\u001b[0m\u001b[37m\u001b[0m \u001b[1m251s\u001b[0m 129ms/step - accuracy: 0.9163 - loss: 0.2213 - val_accuracy: 0.9437 - val_loss: 0.1424\n",
      "Epoch 3/20\n",
      "\u001b[1m1918/1918\u001b[0m \u001b[32m━━━━━━━━━━━━━━━━━━━━\u001b[0m\u001b[37m\u001b[0m \u001b[1m251s\u001b[0m 129ms/step - accuracy: 0.9201 - loss: 0.2070 - val_accuracy: 0.9656 - val_loss: 0.1279\n",
      "Epoch 4/20\n",
      "\u001b[1m1918/1918\u001b[0m \u001b[32m━━━━━━━━━━━━━━━━━━━━\u001b[0m\u001b[37m\u001b[0m \u001b[1m247s\u001b[0m 128ms/step - accuracy: 0.9335 - loss: 0.1749 - val_accuracy: 0.9547 - val_loss: 0.1215\n",
      "Epoch 5/20\n",
      "\u001b[1m1918/1918\u001b[0m \u001b[32m━━━━━━━━━━━━━━━━━━━━\u001b[0m\u001b[37m\u001b[0m \u001b[1m245s\u001b[0m 126ms/step - accuracy: 0.9382 - loss: 0.1751 - val_accuracy: 0.9656 - val_loss: 0.1020\n",
      "Epoch 6/20\n",
      "\u001b[1m1918/1918\u001b[0m \u001b[32m━━━━━━━━━━━━━━━━━━━━\u001b[0m\u001b[37m\u001b[0m \u001b[1m241s\u001b[0m 124ms/step - accuracy: 0.9499 - loss: 0.1412 - val_accuracy: 0.9578 - val_loss: 0.1158\n",
      "Epoch 7/20\n",
      "\u001b[1m1918/1918\u001b[0m \u001b[32m━━━━━━━━━━━━━━━━━━━━\u001b[0m\u001b[37m\u001b[0m \u001b[1m240s\u001b[0m 125ms/step - accuracy: 0.9469 - loss: 0.1427 - val_accuracy: 0.9687 - val_loss: 0.1010\n",
      "Epoch 8/20\n",
      "\u001b[1m1918/1918\u001b[0m \u001b[32m━━━━━━━━━━━━━━━━━━━━\u001b[0m\u001b[37m\u001b[0m \u001b[1m243s\u001b[0m 126ms/step - accuracy: 0.9498 - loss: 0.1248 - val_accuracy: 0.9562 - val_loss: 0.1134\n",
      "Epoch 9/20\n",
      "\u001b[1m1918/1918\u001b[0m \u001b[32m━━━━━━━━━━━━━━━━━━━━\u001b[0m\u001b[37m\u001b[0m \u001b[1m248s\u001b[0m 128ms/step - accuracy: 0.9626 - loss: 0.1248 - val_accuracy: 0.9609 - val_loss: 0.1009\n",
      "Epoch 10/20\n",
      "\u001b[1m1918/1918\u001b[0m \u001b[32m━━━━━━━━━━━━━━━━━━━━\u001b[0m\u001b[37m\u001b[0m \u001b[1m298s\u001b[0m 155ms/step - accuracy: 0.9575 - loss: 0.1227 - val_accuracy: 0.9742 - val_loss: 0.0876\n",
      "Epoch 11/20\n",
      "\u001b[1m1918/1918\u001b[0m \u001b[32m━━━━━━━━━━━━━━━━━━━━\u001b[0m\u001b[37m\u001b[0m \u001b[1m314s\u001b[0m 163ms/step - accuracy: 0.9611 - loss: 0.1078 - val_accuracy: 0.9789 - val_loss: 0.0760\n",
      "Epoch 12/20\n",
      "\u001b[1m1918/1918\u001b[0m \u001b[32m━━━━━━━━━━━━━━━━━━━━\u001b[0m\u001b[37m\u001b[0m \u001b[1m316s\u001b[0m 164ms/step - accuracy: 0.9545 - loss: 0.1262 - val_accuracy: 0.9726 - val_loss: 0.0911\n",
      "Epoch 13/20\n",
      "\u001b[1m1918/1918\u001b[0m \u001b[32m━━━━━━━━━━━━━━━━━━━━\u001b[0m\u001b[37m\u001b[0m \u001b[1m317s\u001b[0m 165ms/step - accuracy: 0.9635 - loss: 0.1090 - val_accuracy: 0.9812 - val_loss: 0.0727\n",
      "Epoch 14/20\n",
      "\u001b[1m1918/1918\u001b[0m \u001b[32m━━━━━━━━━━━━━━━━━━━━\u001b[0m\u001b[37m\u001b[0m \u001b[1m278s\u001b[0m 144ms/step - accuracy: 0.9656 - loss: 0.1023 - val_accuracy: 0.9429 - val_loss: 0.1317\n",
      "Epoch 15/20\n",
      "\u001b[1m1918/1918\u001b[0m \u001b[32m━━━━━━━━━━━━━━━━━━━━\u001b[0m\u001b[37m\u001b[0m \u001b[1m306s\u001b[0m 159ms/step - accuracy: 0.9612 - loss: 0.1118 - val_accuracy: 0.9382 - val_loss: 0.1480\n",
      "Epoch 16/20\n",
      "\u001b[1m1918/1918\u001b[0m \u001b[32m━━━━━━━━━━━━━━━━━━━━\u001b[0m\u001b[37m\u001b[0m \u001b[1m304s\u001b[0m 158ms/step - accuracy: 0.9681 - loss: 0.0966 - val_accuracy: 0.9750 - val_loss: 0.0915\n",
      "Epoch 17/20\n",
      "\u001b[1m1918/1918\u001b[0m \u001b[32m━━━━━━━━━━━━━━━━━━━━\u001b[0m\u001b[37m\u001b[0m \u001b[1m304s\u001b[0m 158ms/step - accuracy: 0.9628 - loss: 0.1003 - val_accuracy: 0.9093 - val_loss: 0.2934\n",
      "Epoch 18/20\n",
      "\u001b[1m1918/1918\u001b[0m \u001b[32m━━━━━━━━━━━━━━━━━━━━\u001b[0m\u001b[37m\u001b[0m \u001b[1m307s\u001b[0m 160ms/step - accuracy: 0.9625 - loss: 0.1068 - val_accuracy: 0.9609 - val_loss: 0.1285\n"
     ]
    }
   ],
   "source": [
    "# Create datasets\n",
    "batch_size = 2\n",
    "train_dataset = prepare_dataset(train_data, batch_size=batch_size)\n",
    "valid_dataset = prepare_dataset(valid_data, batch_size=batch_size, shuffle=False)\n",
    "test_dataset = prepare_dataset(test, batch_size=batch_size, shuffle=False)\n",
    "\n",
    "# Model Architecture\n",
    "input_shape = (224, 224, 3)\n",
    "model = Sequential([\n",
    "    Conv2D(512, (3, 3), padding='same', activation='relu', input_shape=input_shape),\n",
    "    Conv2D(512, (3, 3), padding='same', activation='relu'),\n",
    "    Conv2D(512, (3, 3), padding='same', activation='relu'),\n",
    "    MaxPooling2D(pool_size=(2, 2)),\n",
    "\n",
    "    Conv2D(256, (3, 3), padding='same', activation='relu'),\n",
    "    Conv2D(256, (3, 3), padding='same', activation='relu'),\n",
    "    MaxPooling2D(pool_size=(2, 2)),\n",
    "    Dropout(0.25),\n",
    "\n",
    "    Conv2D(128, (3, 3), padding='same', activation='relu'),\n",
    "    Conv2D(128, (3, 3), padding='same', activation='relu'),\n",
    "    MaxPooling2D(pool_size=(2, 2)),\n",
    "    Dropout(0.25),\n",
    "\n",
    "    Conv2D(64, (3, 3), padding='same', activation='relu'),\n",
    "    MaxPooling2D(pool_size=(2, 2)),\n",
    "\n",
    "    Flatten(),\n",
    "    Dense(256, activation='relu', kernel_regularizer=regularizers.l2(0.01)),\n",
    "    Dropout(0.5),\n",
    "    Dense(1, activation='sigmoid')  # Changed to 1 neuron for binary classification\n",
    "])\n",
    "\n",
    "# Compile the model\n",
    "model.compile(optimizer=Adamax(learning_rate=0.001),\n",
    "              loss='binary_crossentropy',\n",
    "              metrics=['accuracy'])\n",
    "\n",
    "# Set up early stopping\n",
    "early_stopping = EarlyStopping(monitor='val_loss', patience=5, restore_best_weights=True)\n",
    "\n",
    "# Train the model\n",
    "history = model.fit(\n",
    "    train_dataset,\n",
    "    epochs=20,\n",
    "    validation_data=valid_dataset,\n",
    "    callbacks=[early_stopping]\n",
    ")"
   ]
  },
  {
   "cell_type": "code",
   "execution_count": 9,
   "metadata": {},
   "outputs": [
    {
     "name": "stdout",
     "output_type": "stream",
     "text": [
      "\u001b[1m639/639\u001b[0m \u001b[32m━━━━━━━━━━━━━━━━━━━━\u001b[0m\u001b[37m\u001b[0m \u001b[1m34s\u001b[0m 54ms/step - accuracy: 0.9821 - loss: 0.0760\n",
      "Test Accuracy: 0.9812\n"
     ]
    }
   ],
   "source": [
    "# Evaluate the model\n",
    "test_loss, test_acc = model.evaluate(test_dataset)\n",
    "print(f\"Test Accuracy: {test_acc:.4f}\")"
   ]
  }
 ],
 "metadata": {
  "kernelspec": {
   "display_name": "base",
   "language": "python",
   "name": "python3"
  },
  "language_info": {
   "codemirror_mode": {
    "name": "ipython",
    "version": 3
   },
   "file_extension": ".py",
   "mimetype": "text/x-python",
   "name": "python",
   "nbconvert_exporter": "python",
   "pygments_lexer": "ipython3",
   "version": "3.12.9"
  }
 },
 "nbformat": 4,
 "nbformat_minor": 2
}
