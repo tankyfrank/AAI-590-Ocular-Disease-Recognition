{
 "cells": [
  {
   "cell_type": "markdown",
   "id": "ea12324f",
   "metadata": {},
   "source": [
    "# Feature Engineering for Ocular Disease Dataset"
   ]
  },
  {
   "cell_type": "code",
   "execution_count": 1,
   "id": "5d5c2a32-0537-42b1-a7b1-94819888981a",
   "metadata": {},
   "outputs": [
    {
     "name": "stdout",
     "output_type": "stream",
     "text": []
    },
    {
     "name": "stdout",
     "output_type": "stream",
     "text": []
    }
   ],
   "source": [
    "import pandas as pd\n",
    "\n",
    "# Load the dataset (Update the path if necessary)\n",
    "dataset_path = \"ocular-disease-recognition/full_df.csv\"\n",
    "\n",
    "# Read the CSV file into a DataFrame\n",
    "df = pd.read_csv(dataset_path)\n",
    "\n",
    "# Display basic dataset information\n",
    "print(\"Dataset loaded successfully. Shape:\", df.shape)\n",
    "df.head()\n"
   ]
  },
  {
   "cell_type": "code",
   "execution_count": 2,
   "id": "832f4025",
   "metadata": {},
   "outputs": [
    {
     "name": "stdout",
     "output_type": "stream",
     "text": []
    },
    {
     "name": "stdout",
     "output_type": "stream",
     "text": []
    }
   ],
   "source": [
    "# Drop non-informative columns (ID column)\n",
    "df_cleaned = df.drop(columns=['ID'], errors='ignore')\n",
    "\n",
    "print(\"Dropped ID column. New shape:\", df_cleaned.shape)\n",
    "df_cleaned.head()\n"
   ]
  },
  {
   "cell_type": "markdown",
   "id": "8c8fc8fe",
   "metadata": {},
   "source": [
    "### **Dropping Irrelevant Columns**\n",
    "- The **ID** column is a unique identifier and does not provide predictive value.\n",
    "- Removing it prevents unnecessary noise in our model."
   ]
  },
  {
   "cell_type": "code",
   "execution_count": 3,
   "id": "50a302e5",
   "metadata": {},
   "outputs": [
    {
     "name": "stdout",
     "output_type": "stream",
     "text": []
    },
    {
     "name": "stdout",
     "output_type": "stream",
     "text": []
    }
   ],
   "source": [
    "# Handling missing values by filling with median for numerical and mode for categorical\n",
    "for col in df_cleaned.columns:\n",
    "    if df_cleaned[col].dtype == 'object':\n",
    "        df_cleaned[col] = df_cleaned[col].fillna(df_cleaned[col].mode()[0])  # Assign back\n",
    "    else:\n",
    "        df_cleaned[col] = df_cleaned[col].fillna(df_cleaned[col].median())  # Assign back\n",
    "\n",
    "print(\"Missing values filled using mode (categorical) and median (numerical).\")\n",
    "df_cleaned.isnull().sum()\n"
   ]
  },
  {
   "cell_type": "markdown",
   "id": "06931c6b",
   "metadata": {},
   "source": [
    "### **Handling Missing Values**\n",
    "- Numerical features are filled using the **median**, which is robust against outliers.\n",
    "- Categorical features are filled with the **mode** (most frequent value), ensuring consistency.\n",
    "- This prevents missing data from impacting model training."
   ]
  },
  {
   "cell_type": "code",
   "execution_count": 4,
   "id": "77d06a1a",
   "metadata": {},
   "outputs": [
    {
     "name": "stdout",
     "output_type": "stream",
     "text": []
    },
    {
     "name": "stdout",
     "output_type": "stream",
     "text": []
    },
    {
     "name": "stdout",
     "output_type": "stream",
     "text": []
    }
   ],
   "source": [
    "from sklearn.preprocessing import LabelEncoder\n",
    "\n",
    "# Encode categorical columns\n",
    "df_encoded = df_cleaned.copy()\n",
    "label_encoders = {}\n",
    "\n",
    "for col in df_encoded.select_dtypes(include=['object']).columns:\n",
    "    le = LabelEncoder()\n",
    "    df_encoded[col] = le.fit_transform(df_encoded[col])\n",
    "    label_encoders[col] = le  # Store encoder for later use\n",
    "\n",
    "print(\"Categorical variables encoded.\")\n",
    "df_encoded.head()\n"
   ]
  },
  {
   "cell_type": "markdown",
   "id": "f1bb4ab4",
   "metadata": {},
   "source": [
    "### **Encoding Categorical Variables**\n",
    "- **Label Encoding** is applied to categorical variables, converting them into numerical representations.\n",
    "- This ensures that models can process categorical information effectively.\n",
    "- Label encoders are stored for future use (e.g., inverse transforming predictions)."
   ]
  },
  {
   "cell_type": "code",
   "execution_count": null,
   "id": "b1a64f3d",
   "metadata": {},
   "outputs": [
    {
     "name": "stdout",
     "output_type": "stream",
     "text": []
    },
    {
     "name": "stdout",
     "output_type": "stream",
     "text": []
    }
   ],
   "source": [
    "from sklearn.preprocessing import StandardScaler\n",
    "\n",
    "# Columns to exclude from encoding and scaling\n",
    "exclude_cols = ['Left-Fundus', 'Right-Fundus', 'labels']\n",
    "\n",
    "# Select numerical columns excluding the specified columns\n",
    "numerical_cols = df_encoded.select_dtypes(include=['number']).columns.difference(exclude_cols)\n",
    "\n",
    "scaler = StandardScaler()\n",
    "df_scaled = df_encoded.copy()\n",
    "df_scaled[numerical_cols] = scaler.fit_transform(df_scaled[numerical_cols])\n",
    "\n",
    "print(\"Numerical features standardized.\")\n",
    "df_scaled.head()"
   ]
  },
  {
   "cell_type": "markdown",
   "id": "4e828ff7",
   "metadata": {},
   "source": [
    "### **Feature Scaling**\n",
    "- **Standardization (Z-score normalization)** is applied to numerical features.\n",
    "- This ensures that features are on the same scale, preventing some from dominating the model.\n",
    "- Standardization is beneficial for algorithms that rely on distance measures (e.g., SVM, k-NN)."
   ]
  },
  {
   "cell_type": "code",
   "execution_count": null,
   "id": "33ea13bb",
   "metadata": {},
   "outputs": [
    {
     "name": "stdout",
     "output_type": "stream",
     "text": []
    },
    {
     "data": {},
     "execution_count": 12,
     "metadata": {},
     "output_type": "execute_result"
    }
   ],
   "source": [
    "from sklearn.feature_selection import VarianceThreshold\n",
    "\n",
    "# Columns to exclude from encoding and scaling\n",
    "exclude_cols = ['Left-Fundus', 'Right-Fundus', 'labels']\n",
    "\n",
    "# Select numerical columns excluding the specified columns\n",
    "numerical_cols = df_encoded.select_dtypes(include=['number']).columns.difference(exclude_cols)\n",
    "\n",
    "selector = VarianceThreshold(threshold=0.01)  # Remove features with low variance\n",
    "df_selected = pd.DataFrame(selector.fit_transform(df_scaled[numerical_cols]), columns=numerical_cols[selector.get_support()])\n",
    "\n",
    "# Add back the excluded columns\n",
    "df_selected = pd.concat([df_selected, df_encoded[exclude_cols]], axis=1)\n",
    "\n",
    "print(\"Low-variance features removed. New shape:\", df_selected.shape)\n",
    "df_selected.head()\n"
   ]
  },
  {
   "cell_type": "markdown",
   "id": "5f474cb2",
   "metadata": {},
   "source": [
    "### **Feature Selection (Low Variance Removal)**\n",
    "- Features with very low variance contribute little to the predictive power of the model.\n",
    "- Using **VarianceThreshold**, we remove features that have nearly constant values across samples.\n",
    "- This helps improve computational efficiency and avoids overfitting."
   ]
  },
  {
   "cell_type": "code",
   "execution_count": 13,
   "id": "82be7027",
   "metadata": {},
   "outputs": [
    {
     "name": "stdout",
     "output_type": "stream",
     "text": []
    }
   ],
   "source": [
    "# Save cleaned and processed dataset\n",
    "df_selected.to_csv(\"processed_ocular_disease.csv\", index=False)\n",
    "print(\"Feature engineering complete. Processed dataset saved as 'processed_ocular_disease.csv'.\")\n"
   ]
  },
  {
   "cell_type": "markdown",
   "id": "d640d21c",
   "metadata": {},
   "source": [
    "### **Final Processed Dataset**\n",
    "- The final dataset is saved as `processed_ocular_disease.csv` for use in modeling.\n",
    "- All irrelevant columns have been dropped, missing values handled, categorical features encoded, and numerical values standardized.\n",
    "- The dataset is now **ready for machine learning!** "
   ]
  },
  {
   "cell_type": "code",
   "execution_count": null,
   "id": "d56c566d-59a7-4af2-a754-6df4947ff31a",
   "metadata": {},
   "outputs": [],
   "source": []
  }
 ],
 "metadata": {
  "kernelspec": {
   "display_name": "base",
   "language": "python",
   "name": "python3"
  },
  "language_info": {
   "codemirror_mode": {
    "name": "ipython",
    "version": 3
   },
   "file_extension": ".py",
   "mimetype": "text/x-python",
   "name": "python",
   "nbconvert_exporter": "python",
   "pygments_lexer": "ipython3",
   "version": "3.11.5"
  }
 },
 "nbformat": 4,
 "nbformat_minor": 5
}
